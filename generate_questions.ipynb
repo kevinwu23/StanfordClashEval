{
 "cells": [
  {
   "cell_type": "code",
   "execution_count": 45,
   "id": "97a7a2f0-bc5f-43b5-8546-273cef3d1ebe",
   "metadata": {},
   "outputs": [],
   "source": [
    "import pandas as pd\n",
    "import numpy as np\n",
    "import json\n",
    "from datasets import load_dataset\n",
    "\n",
    "from data.prompts import prompts\n",
    "\n",
    "from openai import OpenAI\n",
    "client = OpenAI(api_key=\"YOUR_KEY_HERE\")"
   ]
  },
  {
   "cell_type": "markdown",
   "id": "213274ce-2fc9-4ba6-97a5-52ae615cbd20",
   "metadata": {},
   "source": [
    "## Generating datasets\n",
    "\n",
    "We provide the following documentation regarding out question-generation process.\n",
    "Due to data sharing restrictions from AP and UpToDate, we will focus on names-related questions produced from Wikipedia. However, the process for generating the question-answer-context triplets with prompting is nearly identical after the all the contexts are processed.\n",
    "\n",
    "First, we load in the Huggingface Wikipedia dataset:"
   ]
  },
  {
   "cell_type": "code",
   "execution_count": 18,
   "id": "c67a1392-d8cb-4e02-8c8d-8a66a11fc00b",
   "metadata": {},
   "outputs": [
    {
     "name": "stderr",
     "output_type": "stream",
     "text": [
      "Downloading readme: 100%|████████████████████| 131k/131k [00:00<00:00, 12.7MB/s]\n",
      "Downloading data: 100%|██████████████████████| 41/41 [06:08<00:00,  8.99s/files]\n",
      "Generating train split: 100%|█| 6407814/6407814 [00:30<00:00, 211539.14 examples\n"
     ]
    }
   ],
   "source": [
    "wiki = load_dataset(\"wikimedia/wikipedia\", \"20231101.en\")"
   ]
  },
  {
   "cell_type": "markdown",
   "id": "6206bfe8-50e2-4c35-a6bf-6b967cc77799",
   "metadata": {},
   "source": [
    "Additionally, we want to get articles that are within a specific topic in order to maximize the quality of the context documents."
   ]
  },
  {
   "cell_type": "code",
   "execution_count": 24,
   "id": "facfa574-d0f3-4f7e-8f80-d46df6a40cac",
   "metadata": {},
   "outputs": [],
   "source": [
    "import wikipediaapi\n",
    "import random\n",
    "import wikipedia\n",
    "wikipedia.set_lang(\"en\")\n",
    "\n",
    "wiki_api = wikipediaapi.Wikipedia('Mozilla/5.0 (Macintosh; Intel Mac OS X 10_15_7) AppleWebKit/537.36 (KHTML, like Gecko) Chrome/121.0.0.0 Safari/537.36')\n",
    "\n",
    "def get_articles_on_topic(topic):\n",
    "    page_py = wiki_api.page(topic)\n",
    "    if not page_py.exists():\n",
    "        return []\n",
    "    linked_pages = page_py.links\n",
    "    articles = list(linked_pages.keys())\n",
    "\n",
    "    return articles"
   ]
  },
  {
   "cell_type": "code",
   "execution_count": 25,
   "id": "84d07741-7a29-4f1c-bd5b-840ccb1a867e",
   "metadata": {},
   "outputs": [],
   "source": [
    "political_article_names = [y.lower() for y in get_articles_on_topic('Politics') if \":\" not in y]"
   ]
  },
  {
   "cell_type": "code",
   "execution_count": 27,
   "id": "7d532ed3-79a6-4362-be7c-2ea0ca39fb85",
   "metadata": {},
   "outputs": [
    {
     "name": "stderr",
     "output_type": "stream",
     "text": [
      "Filter: 100%|███████████████| 6407814/6407814 [03:02<00:00, 35107.41 examples/s]\n"
     ]
    }
   ],
   "source": [
    "filtered = wiki['train'].filter(lambda x: x['title'].lower() in political_article_names)"
   ]
  },
  {
   "cell_type": "code",
   "execution_count": 32,
   "id": "e33c999d-18e8-46a3-8a7c-659217eafe1d",
   "metadata": {},
   "outputs": [],
   "source": [
    "subset = wiki['train'].select(np.random.choice(6407814, 2000))"
   ]
  },
  {
   "cell_type": "code",
   "execution_count": 33,
   "id": "0d796a40-074f-4e9f-ac6e-c6dd254de5ac",
   "metadata": {},
   "outputs": [],
   "source": [
    "wiki_df = pd.DataFrame(subset)"
   ]
  },
  {
   "cell_type": "markdown",
   "id": "f6f88da0-adc7-405d-856c-3b66fcceddeb",
   "metadata": {},
   "source": [
    "Now that we have the dataframe of context documents, we can generate the question-answer-context triplets.\n",
    "\n",
    "We start with the prompt for generating questions:"
   ]
  },
  {
   "cell_type": "code",
   "execution_count": 38,
   "id": "3492f6af-7a19-45d6-a103-8ebb3faa99b3",
   "metadata": {},
   "outputs": [
    {
     "name": "stdout",
     "output_type": "stream",
     "text": [
      "\n",
      "                                Given the following document, please generate a question and answer based on the document.\n",
      "    \n",
      "                                The question MUST contain all information and context necessary to answer without the document.\n",
      "    \n",
      "                                In your output, include the phrase from the document that contains the answer to the question as 'context'.\n",
      "                                This phrase MUST be copied verbatim, word for word, from the document. \n",
      "                                You must produce the context phrase exactly from the text, with no modifications or truncations.\n",
      "                                This phrase should be short (one sentence).\n",
      "    \n",
      "                                You must obey the following criteria:\n",
      "                                - The question MUST ask for the name of a human person. \n",
      "                                Do not produce a question that is not directly related to a person's name. \n",
      "                                Do not produce questions that ask for names of organizations, teams, games, or entities.\n",
      "                                - The question MUST be detailed and be based explicitly on information in the document.\n",
      "                                - The context sentence the question is based on MUST include the name of the person. \n",
      "                                For example, an unacceptable context is \"He won a bronze medal in the 4 × 100 m relay\". \n",
      "                                An acceptable context is \"Nils Sandström was a Swedish sprinter who competed at the 1920 Summer Olympics.\"\n",
      "                                - The name in the answer should only be mentioned sparingly (ideally once) in the article. \n",
      "                                Do not ask a question about an individual if that individual is mentioned multiple times or\n",
      "                                if the individual is the main topic of the article.\n",
      "                                - The name in the answer should not be the name of an organization. \n",
      "                                Rather it should be the name of a human person.\n",
      "                                - The answer should include a first AND last name. Single-word names should return 'None'.\n",
      "    \n",
      "                                If there are no possible questions that meet these criteria, return 'None' as the question.\n",
      "                                Remember, only produce one question.\n",
      "    \n",
      "                                Output the question in JSON format.\n",
      "                                Begin!\n",
      "    \n",
      "                                Example Input Format:\n",
      "                                <Begin Document>\n",
      "                                ...\n",
      "                                <End Document>\n",
      "    \n",
      "                                Example Response:\n",
      "                                {Question: 'Who was the commanding general of the Union Army during the American Civil War?',\n",
      "                                Answer: 'Ulysses S. Grant',\n",
      "                                Context: 'As commanding general, Ulysses S. Grant led the Union Army to victory in the American Civil War in 1865.'}\n",
      "                            \n"
     ]
    }
   ],
   "source": [
    "print(prompts.QUESTION_GENERATOR['names'])"
   ]
  },
  {
   "cell_type": "code",
   "execution_count": 40,
   "id": "98844d4f-c34c-48da-98a7-2442bc0c56de",
   "metadata": {},
   "outputs": [],
   "source": [
    "row = wiki_df.iloc[0]\n",
    "context = row['text']"
   ]
  },
  {
   "cell_type": "markdown",
   "id": "98746157-7f93-4a7b-b577-32e8f271ef47",
   "metadata": {},
   "source": [
    "Next, we apply this prompt to a document to produce the question-answer-context triplet:"
   ]
  },
  {
   "cell_type": "code",
   "execution_count": 47,
   "id": "bb7c90a6-d062-40a1-b772-fabc3480bbec",
   "metadata": {},
   "outputs": [],
   "source": [
    "response = client.chat.completions.create(\n",
    "  model=\"gpt-4o\",\n",
    "  response_format={\"type\": 'json_object'},\n",
    "  messages=[\n",
    "    {\"role\": \"system\", \"content\": prompts.QUESTION_GENERATOR['names']},\n",
    "    {\"role\": \"user\", \"content\": f\"<Begin Document>\\n{context}\\n<End Document>\"}\n",
    "  ],\n",
    "  temperature=0,\n",
    "  seed=0,\n",
    ")"
   ]
  },
  {
   "cell_type": "code",
   "execution_count": 49,
   "id": "74b1b9c7-3035-482d-a574-5c5040db4034",
   "metadata": {},
   "outputs": [
    {
     "data": {
      "text/plain": [
       "{'Question': 'Who is the birth mother of Bezhig and her siblings in the Canadian drama television series Little Bird?',\n",
       " 'Answer': 'Ellyn Jade',\n",
       " 'Context': 'Ellyn Jade as Patti Little Bird, the birth mother of Bezhig and her siblings.'}"
      ]
     },
     "execution_count": 49,
     "metadata": {},
     "output_type": "execute_result"
    }
   ],
   "source": [
    "qa_dict = json.loads(response.choices[0].message.content)\n",
    "qa_dict"
   ]
  },
  {
   "cell_type": "markdown",
   "id": "e551c192-9b53-4dd8-b691-e1dc4324375a",
   "metadata": {},
   "source": [
    "We create our other datasets in a nearly identical way.\n",
    "In practice, some Wikipedia documents are not long enough or do not contain enough substance to produce a valid question.\n",
    "\n",
    "In anticipation of \"None\" responses, we run the model on a larger subset of documents than we need and then sample among the valid responses."
   ]
  }
 ],
 "metadata": {
  "kernelspec": {
   "display_name": "Python 3 (ipykernel)",
   "language": "python",
   "name": "python3"
  },
  "language_info": {
   "codemirror_mode": {
    "name": "ipython",
    "version": 3
   },
   "file_extension": ".py",
   "mimetype": "text/x-python",
   "name": "python",
   "nbconvert_exporter": "python",
   "pygments_lexer": "ipython3",
   "version": "3.12.3"
  }
 },
 "nbformat": 4,
 "nbformat_minor": 5
}
