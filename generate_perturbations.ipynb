{
 "cells": [
  {
   "cell_type": "code",
   "execution_count": 115,
   "id": "70a93a96-c4d7-44a4-9d65-0b4e3600c627",
   "metadata": {},
   "outputs": [],
   "source": [
    "import pandas as pd\n",
    "import json\n",
    "import numpy as np\n",
    "import re\n",
    "\n",
    "from data.prompts import prompts\n",
    "from openai import OpenAI\n",
    "client = OpenAI(api_key=\"YOUR_KEY_HERE\")"
   ]
  },
  {
   "cell_type": "code",
   "execution_count": 1,
   "id": "a9d8456a-667f-4ccf-ba0e-eecb91e8317a",
   "metadata": {},
   "outputs": [],
   "source": [
    "%load_ext autoreload\n",
    "%autoreload 2"
   ]
  },
  {
   "cell_type": "markdown",
   "id": "fefca32f-e245-4379-b80d-b45f28773cfc",
   "metadata": {},
   "source": [
    "## Read dataset"
   ]
  },
  {
   "cell_type": "code",
   "execution_count": 5,
   "id": "3fd52084-63fe-4dbf-a81c-fb1331670717",
   "metadata": {},
   "outputs": [],
   "source": [
    "df = pd.read_parquet(\"data/dataset/dataset.pqt\")"
   ]
  },
  {
   "cell_type": "markdown",
   "id": "91b616df-e741-47be-b4bb-636c7f7cb614",
   "metadata": {},
   "source": [
    "## Perturbing categorical variables\n",
    "\n",
    "This first section will cover how we perturb categorical values: names and locations.\n",
    "\n",
    "Our basic steps involve calling GPT-4o and making substitutions to the original contexts.\n",
    "\n",
    "### 1. Names\n",
    "We start with extracting a question, context, and answer triplet:"
   ]
  },
  {
   "cell_type": "code",
   "execution_count": 6,
   "id": "511aa885-3cb8-4b90-a780-2f12668e3b0d",
   "metadata": {},
   "outputs": [],
   "source": [
    "row = df[df['dataset']=='names'].iloc[200]\n",
    "question = row['question']\n",
    "context = row['context_original']\n",
    "name = row['answer_original']"
   ]
  },
  {
   "cell_type": "code",
   "execution_count": 7,
   "id": "cb5dc881-bcde-459f-a274-7095e89072d5",
   "metadata": {},
   "outputs": [
    {
     "name": "stdout",
     "output_type": "stream",
     "text": [
      "Question: Who was an English politician from Down Place, Surrey, who served as a Member of the Parliament for Guildford in 1407? \n",
      "\n",
      "Context: Robert Hull (fl. 1407) of Down Place, Surrey, was an English politician.\n",
      "\n",
      "He married 'Elisora', who has been identified as possibly Elizabeth Stonhurst alias Doune of Doune (Down) Place.\n",
      "\n",
      "He was a Member (MP) of the Parliament of England for Guildford in 1407.\n",
      "\n",
      "References\n",
      "\n",
      "14th-century births\n",
      "15th-century deaths\n",
      "English MPs 1407\n",
      "People from Surrey (before 1889)\n",
      "Members of Parliament for Guildford\n"
     ]
    }
   ],
   "source": [
    "print(f'Question: {question} \\n')\n",
    "print(f'Context: {context}')"
   ]
  },
  {
   "cell_type": "markdown",
   "id": "da9ce952-8edd-4964-9b60-bdf10633fb8d",
   "metadata": {},
   "source": [
    "Next, we use GPT-4o to produce perturbations of this name.\n",
    "\n",
    "We use the prompt below:"
   ]
  },
  {
   "cell_type": "code",
   "execution_count": 8,
   "id": "a014b653-217a-4d1f-aff0-de9d94132a98",
   "metadata": {},
   "outputs": [
    {
     "name": "stdout",
     "output_type": "stream",
     "text": [
      "Your job is to modify a given name in three different ways. \n",
      "\n",
      "In the first modification, make a slight change according to the following guidelines:\n",
      "    - The modified name should stay within the same country of origin, time period, and/or gender.\n",
      "\n",
      "In the second modification, make a significant change according to the following guidelines: \n",
      "    - The modified name be from a different country of origin, time period, and/or gender.\n",
      "    - The modified name should be a real person's name of similar importance, stature, and popularity.\n",
      "\n",
      "In the third modification, come up with a comical variation of the name. (Something in the spirit of Boaty McBoatFace).\n",
      "\n",
      "The modified name should have a first AND last name.\n",
      "\n",
      "Return a json where the first key is \"slight\" for the slightly changed name and the second key is \"significant\" for the significantly changed name, and the third key is \"comical\" for a comical variation on the name.\n",
      "\n",
      "Example Input Format:\n",
      "Name: Benjamin Franklin\n",
      "\n",
      "Example Output:\n",
      "{\"slight\": Thomas Washington, \"significant\": Yi Zhou, \"comical\": Benjamjam Franklerford}\n"
     ]
    }
   ],
   "source": [
    "print(prompts.PERTURBATIONS['names'])"
   ]
  },
  {
   "cell_type": "markdown",
   "id": "fbff81f1-7cfe-4a30-b1d6-dee6d094a76c",
   "metadata": {},
   "source": [
    "Our prompting method expects a json with the keys as degrees of peturbation and values as the pertubations themselves.\n",
    "\n",
    "The API call below allows us to perturb a single name three times."
   ]
  },
  {
   "cell_type": "code",
   "execution_count": 60,
   "id": "6cfbf29b-132b-47b0-9040-4d99e757c9fb",
   "metadata": {},
   "outputs": [],
   "source": [
    "response = client.chat.completions.create(\n",
    "  model=\"gpt-4o\",\n",
    "  response_format={\"type\": 'json_object'},\n",
    "  messages=[\n",
    "    {\"role\": \"system\", \"content\": prompts.PERTURBATIONS['names']},\n",
    "    {\"role\": \"user\", \"content\": f\"Name: {name}\"}\n",
    "  ],\n",
    "  temperature=0,\n",
    "  seed=0,\n",
    ")"
   ]
  },
  {
   "cell_type": "code",
   "execution_count": 61,
   "id": "6d68de08-94f1-4d8a-82d8-b41514a4d49f",
   "metadata": {},
   "outputs": [
    {
     "name": "stdout",
     "output_type": "stream",
     "text": [
      "{'slight': 'Richard Hull', 'significant': 'Hiroshi Tanaka', 'comical': 'Robo Hullabaloo'}\n"
     ]
    }
   ],
   "source": [
    "perturbations_dict = json.loads(response.choices[0].message.content)\n",
    "print(perturbations_dict)"
   ]
  },
  {
   "cell_type": "markdown",
   "id": "1b6f3d44-7c7c-46a3-8faa-6a6d83f7e7fd",
   "metadata": {},
   "source": [
    "Next, we substitute this back into the original context:"
   ]
  },
  {
   "cell_type": "code",
   "execution_count": 13,
   "id": "7ee17315-87e0-4369-98ca-bc9511bad110",
   "metadata": {},
   "outputs": [],
   "source": [
    "context_mod = context.replace(name, perturbations_dict['comical'])"
   ]
  },
  {
   "cell_type": "code",
   "execution_count": 15,
   "id": "aa603cf7-44e7-4908-a826-3b5258f23942",
   "metadata": {},
   "outputs": [
    {
     "name": "stdout",
     "output_type": "stream",
     "text": [
      "Robo Hullabaloo (fl. 1407) of Down Place, Surrey, was an English politician.\n",
      "\n",
      "He married 'Elisora', who has been identified as possibly Elizabeth Stonhurst alias Doune of Doune (Down) Place.\n",
      "\n",
      "He was a Member (MP) of the Parliament of England for Guildford in 1407.\n",
      "\n",
      "References\n",
      "\n",
      "14th-century births\n",
      "15th-century deaths\n",
      "English MPs 1407\n",
      "People from Surrey (before 1889)\n",
      "Members of Parliament for Guildford\n"
     ]
    }
   ],
   "source": [
    "print(context_mod)"
   ]
  },
  {
   "cell_type": "markdown",
   "id": "2fb6b2ce-70d8-4330-87ea-836ed2a75ca4",
   "metadata": {},
   "source": [
    "### 2. Locations\n",
    "\n",
    "We perform a similar set of steps for locations. We use the following prompt:"
   ]
  },
  {
   "cell_type": "code",
   "execution_count": 17,
   "id": "64ce0d4a-80c4-4fb8-a059-ce66c9ede4ce",
   "metadata": {},
   "outputs": [
    {
     "name": "stdout",
     "output_type": "stream",
     "text": [
      "Your job is to modify a given city name in three different ways. \n",
      "\n",
      "In the first modification, make a slight change according to the following guidelines: \n",
      "    - The modified city name should be the name of a city most closely associated with the original city. \n",
      "    For example, San Fransisco -> Oakland, Los Angeles -> San Diego. \n",
      "\n",
      "In the second modification, make a significant change according to the following guidelines: \n",
      "    - The city name should be not a real city name, but sound like a real city name.\n",
      "\n",
      "In the third modification, come up with a comical variation of the name. (Something in the spirit of Boaty McBoatFace).\n",
      "\n",
      "Return a json where the first key is \"slight\" for the slightly changed name and the second key is \"significant\" for the significantly changed name, and the third key is \"comical\" for a comical variation on the name.\n",
      "\n",
      "Example Input Format:\n",
      "Location: Los Angeles\n",
      "\n",
      "Example Output:\n",
      "{\"slight\": San Diego, \"significant\": Mt. Leigh, \"comical\": Lala Angalala}\n"
     ]
    }
   ],
   "source": [
    "print(prompts.PERTURBATIONS['locations'])"
   ]
  },
  {
   "cell_type": "code",
   "execution_count": 38,
   "id": "0147d805-49fd-434e-9d07-640ea382d5d6",
   "metadata": {},
   "outputs": [],
   "source": [
    "row = df[df['dataset']=='locations'].iloc[25]\n",
    "question = row['question']\n",
    "context = row['context_original']\n",
    "location = row['answer_original']"
   ]
  },
  {
   "cell_type": "code",
   "execution_count": 39,
   "id": "ce23a572-1fcb-4784-909b-96169ea4d4aa",
   "metadata": {},
   "outputs": [
    {
     "name": "stdout",
     "output_type": "stream",
     "text": [
      "Question: Which city is the location of the Kinclaven Castle that was used as a royal castle by King Alexander II of Scotland and was later captured by William Wallace in 1297? \n",
      "\n",
      "Context: Kinclaven Castle is a ruined 13th century castle in Perthshire, Scotland.\n",
      "\n",
      "History\n",
      "Built at the confluence of the Isla and Tay rivers, the castle originally controlled the ferry crossing nearby. The castle was used as a royal castle by King Alexander II of Scotland and a number of charters were signed during the reign of King Alexander III of Scotland (r.1249–1286).\n",
      "\n",
      "Kinclaven was in English hands in 1296, King Edward I of England staying one night at the castle during his invasion of Scotland. Kinclaven was later captured by William Wallace in 1297. Wallace sacked the castle and put the English garrison and constable James Butler to the sword.\n",
      "\n",
      "After being repaired, the castle was again in English hands by 1337, when the Guardian of Scotland Sir Andrew Murray retook the castle.\n",
      "\n",
      "References\n",
      "Coventry, Martin. (2008) Castles of the Clans: the strongholds and seats of 750 Scottish families and clans. Musselburgh. p.507.\n",
      "\n",
      "Ruined castles in Perth and Kinross\n"
     ]
    }
   ],
   "source": [
    "print(f'Question: {question} \\n')\n",
    "print(f'Context: {context}')"
   ]
  },
  {
   "cell_type": "code",
   "execution_count": 58,
   "id": "352e9c41-6392-4853-b7ae-7a24950d674c",
   "metadata": {},
   "outputs": [],
   "source": [
    "response = client.chat.completions.create(\n",
    "  model=\"gpt-4o\",\n",
    "  response_format={\"type\": 'json_object'},\n",
    "  messages=[\n",
    "    {\"role\": \"system\", \"content\": prompts.PERTURBATIONS['locations']},\n",
    "    {\"role\": \"user\", \"content\": f\"Location: {location}\"}\n",
    "  ],\n",
    "  temperature=0,\n",
    "  seed=0,\n",
    ")"
   ]
  },
  {
   "cell_type": "code",
   "execution_count": 59,
   "id": "c99dda9a-d2cd-4015-aac0-7fd8e4b6f74c",
   "metadata": {},
   "outputs": [
    {
     "name": "stdout",
     "output_type": "stream",
     "text": [
      "{'slight': 'Stirling', 'significant': 'Porthaven', 'comical': 'Perthshmirth'}\n"
     ]
    }
   ],
   "source": [
    "perturbations_dict = json.loads(response.choices[0].message.content)\n",
    "print(perturbations_dict)"
   ]
  },
  {
   "cell_type": "code",
   "execution_count": 44,
   "id": "79bd93af-dc99-4ea7-b9fc-701f826f0562",
   "metadata": {},
   "outputs": [],
   "source": [
    "context_mod = context.replace(location, perturbations_dict['significant'])"
   ]
  },
  {
   "cell_type": "code",
   "execution_count": 45,
   "id": "85445feb-c94c-4c3b-bc79-346aac66309b",
   "metadata": {},
   "outputs": [
    {
     "name": "stdout",
     "output_type": "stream",
     "text": [
      "Kinclaven Castle is a ruined 13th century castle in Porthaven, Scotland.\n",
      "\n",
      "History\n",
      "Built at the confluence of the Isla and Tay rivers, the castle originally controlled the ferry crossing nearby. The castle was used as a royal castle by King Alexander II of Scotland and a number of charters were signed during the reign of King Alexander III of Scotland (r.1249–1286).\n",
      "\n",
      "Kinclaven was in English hands in 1296, King Edward I of England staying one night at the castle during his invasion of Scotland. Kinclaven was later captured by William Wallace in 1297. Wallace sacked the castle and put the English garrison and constable James Butler to the sword.\n",
      "\n",
      "After being repaired, the castle was again in English hands by 1337, when the Guardian of Scotland Sir Andrew Murray retook the castle.\n",
      "\n",
      "References\n",
      "Coventry, Martin. (2008) Castles of the Clans: the strongholds and seats of 750 Scottish families and clans. Musselburgh. p.507.\n",
      "\n",
      "Ruined castles in Perth and Kinross\n"
     ]
    }
   ],
   "source": [
    "print(context_mod)"
   ]
  },
  {
   "cell_type": "markdown",
   "id": "78f4527d-3289-4d0e-b510-9b6ec491a8d9",
   "metadata": {},
   "source": [
    "## Perturbing numerical variables"
   ]
  },
  {
   "cell_type": "markdown",
   "id": "2c59dc89-0700-41a9-b88e-250cc20974a9",
   "metadata": {},
   "source": [
    "### 1. Years\n",
    "\n",
    "We perturb years across an interval of 10 values spanning between -100 and +100. \n",
    "To make this perturbation simple and deterministic, we replace all instances of a year within the context.\n",
    "The following example below shows this being done on question, context, answer triplet:"
   ]
  },
  {
   "cell_type": "code",
   "execution_count": 50,
   "id": "abb4c3f7-c9fc-4199-93af-5540cb3a0715",
   "metadata": {},
   "outputs": [],
   "source": [
    "row = df[df['dataset']=='years'].iloc[10]\n",
    "question = row['question']\n",
    "context = row['context_original']\n",
    "year = row['answer_original']"
   ]
  },
  {
   "cell_type": "code",
   "execution_count": 55,
   "id": "031ca6f1-ff48-4c59-8af9-3606637f9c43",
   "metadata": {},
   "outputs": [
    {
     "name": "stdout",
     "output_type": "stream",
     "text": [
      "Question: In which year did Adam Fuller serve as the head coach at Assumption College in Worcester, Massachusetts? \n",
      "\n",
      "Context: Adam Fuller is an American football coach. He is currently the defensive coordinator at Florida State University. He was previously the assistant head coach, linebackers coach, and special teams coordinator at Marshall University in Huntington, West Virginia, prior to serving as defensive coordinator at the University of Memphis.\n",
      "\n",
      "A graduate of the Sacred Heart University, Fuller was previously the head coach at Assumption College in Worcester, Massachusetts for one season in 2008.\n",
      "\n",
      "Head coaching record\n",
      "\n",
      "References\n",
      "\n",
      "Year of birth missing (living people)\n",
      "Living people\n",
      "American football linebackers\n",
      "Assumption Greyhounds football coaches\n",
      "Chattanooga Mocs football coaches\n",
      "Marshall Thundering Herd football coaches\n",
      "Memphis Tigers football coaches \n",
      "Sacred Heart Pioneers football players\n",
      "Wagner Seahawks football coaches\n",
      "WPI Engineers football coaches\n"
     ]
    }
   ],
   "source": [
    "print(f'Question: {question} \\n')\n",
    "print(f'Context: {context}')"
   ]
  },
  {
   "cell_type": "code",
   "execution_count": 57,
   "id": "6be44441-6b40-4831-b10b-4407f97fb050",
   "metadata": {},
   "outputs": [
    {
     "name": "stdout",
     "output_type": "stream",
     "text": [
      "Mod value: 1908 \n",
      "Mod Context: Adam Fuller is an American football coach. He is currently the defensive coordinator at Florida State University. He was previously the assistant head coach, linebackers coach, and special teams coordinator at Marshall University in Huntington, West Virginia, prior to serving as defensive coordinator at the University of Memphis.\n",
      "\n",
      "A graduate of the Sacred Heart University, Fuller was previously the head coach at Assumption College in Worcester, Massachusetts for one season in 1908.\n",
      "\n",
      "Head coaching record\n",
      "\n",
      "References\n",
      "\n",
      "Year of birth missing (living people)\n",
      "Living people\n",
      "American football linebackers\n",
      "Assumption Greyhounds football coaches\n",
      "Chattanooga Mocs football coaches\n",
      "Marshall Thundering Herd football coaches\n",
      "Memphis Tigers football coaches \n",
      "Sacred Heart Pioneers football players\n",
      "Wagner Seahawks football coaches\n",
      "WPI Engineers football coaches\n"
     ]
    }
   ],
   "source": [
    "mod_df = []\n",
    "for mod_type in list(np.sort([int(x) for x in np.linspace(-100, 100, 10)] + [0])):\n",
    "    mod_df.append({'mod_type': str(mod_type), 'mod_value': int(year) + mod_type, 'mod_context': context.replace(str(year), str(int(year) + mod_type))})\n",
    "\n",
    "mod_df = pd.DataFrame(mod_df)\n",
    "print(f\"Mod value: {mod_df.iloc[0]['mod_value']} \\nMod Context: {mod_df.iloc[0]['mod_context']}\")"
   ]
  },
  {
   "cell_type": "markdown",
   "id": "9b0ed695-c432-453f-8d7c-22f29f515582",
   "metadata": {},
   "source": [
    "### 2. Drug Dosages\n",
    "\n",
    "We found that using LLMs to perturb drug dosages could more reliably produce high quality modifications than rule-based algorithms.\n",
    "\n",
    "We use the following prompt for perturbing drug dosages:"
   ]
  },
  {
   "cell_type": "code",
   "execution_count": 62,
   "id": "431b589c-c594-4f29-8cb6-4e32c15d09f1",
   "metadata": {},
   "outputs": [
    {
     "name": "stdout",
     "output_type": "stream",
     "text": [
      "You are given a question, an answer, and a statement that can be used to answer the question. The statement contains a drug dosage (in mg).                Your job is to modify the statement such that it changes the answer to the question by a multiplicative factor, rounded down to the tenth place (single decimal place).\n",
      "                For instance, 0.15 should be rounded down to 0.1, and 0.25 should be rounded down to 0.2.\n",
      "                Use the following multiplicative factors: [0.1, 0.2, 0.4, 0.8, 1.2, 1.5, 2.0, 3.0, 5.0, 10.0]\n",
      "\n",
      "                Example Input Format:\n",
      "                Question: What is the maximum single dose in mg for adult patients taking sublingual film of Apomorphine during a Parkinson disease 'off' episode?\n",
      "                Answer: 30\n",
      "                Statement: maximum single dose of 30 mg\n",
      "\n",
      "                Example JSON Output:\n",
      "                {\n",
      "                \"0.1\": {\"modified_statement\": \"maximum single dose of 3 mg\", \"modified_answer\": \"3\"},\n",
      "                \"0.2\": {\"modified_statement\": \"maximum single dose of 6 mg\", \"modified_answer\": \"6\"},\n",
      "                \"0.4\": {\"modified_statement\": \"maximum single dose of 12 mg\", \"modified_answer\": \"12\"},\n",
      "                \"0.8\": {\"modified_statement\": \"maximum single dose of 24 mg\", \"modified_answer\": \"24\"},\n",
      "                \"1.2\": {\"modified_statement\": \"maximum single dose of 36 mg\", \"modified_answer\": \"36\"},\n",
      "                \"1.5\": {\"modified_statement\": \"maximum single dose of 45 mg\", \"modified_answer\": 45\"},\n",
      "                \"2.0\": {\"modified_statement\": \"maximum single dose of 60 mg\", \"modified_answer\": \"60\"},\n",
      "                \"3.0\": {\"modified_statement\": \"maximum single dose of 90 mg\", \"modified_answer\": \"90\"},\n",
      "                \"5.0\": {\"modified_statement\": \"maximum single dose of 150 mg\", \"modified_answer\": \"150\"},\n",
      "                \"10.0\": {\"modified_statement\": \"maximum single dose of 300 mg\", \"modified_answer\": \"300\"}\n",
      "                }\n",
      "                There MUST be 10 total key-value pairs in a JSON output, corresponding to one for each of the multiplicative factors.\n",
      "                \n"
     ]
    }
   ],
   "source": [
    "print(prompts.PERTURBATIONS['drugs'])"
   ]
  },
  {
   "cell_type": "code",
   "execution_count": 65,
   "id": "9ea27f70-7cf6-4b5e-a7de-1ee3e7f36c25",
   "metadata": {},
   "outputs": [],
   "source": [
    "row = df[df['dataset']=='drugs'].iloc[0]"
   ]
  },
  {
   "cell_type": "code",
   "execution_count": 72,
   "id": "b2255958-3c37-4e59-8281-d73bd8198a23",
   "metadata": {},
   "outputs": [],
   "source": [
    "question = row['question']\n",
    "context = row['context_original']\n",
    "answer = row['answer_original']\n",
    "statement = \"maximum dose: 30 mg once daily.\""
   ]
  },
  {
   "cell_type": "markdown",
   "id": "2aae86fc-56ea-4527-9bc7-ee2c677ced61",
   "metadata": {},
   "source": [
    "Note that we added a \"statement\" parameter. Given longer contexts, we ask the question generating model to specify the sentence which the answer is derived from. "
   ]
  },
  {
   "cell_type": "code",
   "execution_count": 70,
   "id": "523b3d38-fd6e-40b9-b8d3-20d781ada3ec",
   "metadata": {},
   "outputs": [
    {
     "name": "stdout",
     "output_type": "stream",
     "text": [
      "Question: What is the maximum daily dosage in mg for extended release oxybutynin in adults with overactive bladder?\n",
      "Answer: 30\n"
     ]
    }
   ],
   "source": [
    "print(f\"Question: {question}\")\n",
    "print(f\"Answer: {answer}\")"
   ]
  },
  {
   "cell_type": "code",
   "execution_count": 75,
   "id": "6cad3b8f-b0fa-45dc-bf30-fc03342092f7",
   "metadata": {},
   "outputs": [],
   "source": [
    "response = client.chat.completions.create(\n",
    "  model=\"gpt-4o\",\n",
    "  response_format={\"type\": 'json_object'},\n",
    "  messages=[\n",
    "    {\"role\": \"system\", \"content\": prompts.PERTURBATIONS['drugs']},\n",
    "    {\"role\": \"user\", \"content\": f\"Question: {question}\\nAnswer: {answer}\\nStatement: {statement}\"}\n",
    "  ],\n",
    "  temperature=0,\n",
    "  seed=0,\n",
    ")"
   ]
  },
  {
   "cell_type": "code",
   "execution_count": 77,
   "id": "974df57a-cff9-4eee-8dd6-644ca09e18e2",
   "metadata": {},
   "outputs": [],
   "source": [
    "perturbations_dict = json.loads(response.choices[0].message.content)"
   ]
  },
  {
   "cell_type": "code",
   "execution_count": 80,
   "id": "7ef4c733-d37e-4f1a-bfb2-3ecd80e3321f",
   "metadata": {},
   "outputs": [
    {
     "data": {
      "text/plain": [
       "{'0.1': {'modified_statement': 'maximum dose: 3 mg once daily.',\n",
       "  'modified_answer': '3'},\n",
       " '0.2': {'modified_statement': 'maximum dose: 6 mg once daily.',\n",
       "  'modified_answer': '6'},\n",
       " '0.4': {'modified_statement': 'maximum dose: 12 mg once daily.',\n",
       "  'modified_answer': '12'},\n",
       " '0.8': {'modified_statement': 'maximum dose: 24 mg once daily.',\n",
       "  'modified_answer': '24'},\n",
       " '1.2': {'modified_statement': 'maximum dose: 36 mg once daily.',\n",
       "  'modified_answer': '36'},\n",
       " '1.5': {'modified_statement': 'maximum dose: 45 mg once daily.',\n",
       "  'modified_answer': '45'},\n",
       " '2.0': {'modified_statement': 'maximum dose: 60 mg once daily.',\n",
       "  'modified_answer': '60'},\n",
       " '3.0': {'modified_statement': 'maximum dose: 90 mg once daily.',\n",
       "  'modified_answer': '90'},\n",
       " '5.0': {'modified_statement': 'maximum dose: 150 mg once daily.',\n",
       "  'modified_answer': '150'},\n",
       " '10.0': {'modified_statement': 'maximum dose: 300 mg once daily.',\n",
       "  'modified_answer': '300'}}"
      ]
     },
     "execution_count": 80,
     "metadata": {},
     "output_type": "execute_result"
    }
   ],
   "source": [
    "perturbations_dict"
   ]
  },
  {
   "cell_type": "code",
   "execution_count": 94,
   "id": "a8ed9661-0787-4558-ba0e-2989626aae5d",
   "metadata": {},
   "outputs": [
    {
     "name": "stdout",
     "output_type": "stream",
     "text": [
      "Mod value: 3 \n",
      "Mod Context: Extended release: Initial: 5 to 10 mg once daily; adjust dose as needed based on response and tolerability in 5 mg increments every 1 to ≥2 weeks ( Ref ); maximum dose: 3 mg once daily. Immediate release : 5 mg 2 to 3 times daily; adjust dose as needed based on response and tolerability in 5 mg increments approximately every 2 weeks ( Ref ); maximum dose: 5 mg 4 times daily.\n"
     ]
    }
   ],
   "source": [
    "mod_df = []\n",
    "for mod_type, perturb_v in perturbations_dict.items():\n",
    "    mod_df.append({'mod_type': str(mod_type), \n",
    "                   'mod_value': perturb_v[\"modified_answer\"], \n",
    "                   'mod_context': context.replace(statement, perturb_v[\"modified_statement\"])})\n",
    "mod_df = pd.DataFrame(mod_df)\n",
    "print(f\"Mod value: {mod_df.iloc[0]['mod_value']} \\nMod Context: {mod_df.iloc[0]['mod_context'][2518:2895]}\")"
   ]
  },
  {
   "cell_type": "markdown",
   "id": "50c2fe36-ee3b-4218-9872-40c173c37206",
   "metadata": {},
   "source": [
    "### 3. News\n",
    "Similarly, we produce perturbations in news documents through prompting:"
   ]
  },
  {
   "cell_type": "code",
   "execution_count": 138,
   "id": "99610639-28c1-41ae-9b94-4cfefd554b60",
   "metadata": {},
   "outputs": [
    {
     "name": "stdout",
     "output_type": "stream",
     "text": [
      "You are given a question, an answer, and a statement that can be used to answer the question.\n",
      "                Your job is to modify the statement such that it changes the answer to the question by a multiplicative factor, rounded down to the tenth place (single decimal place).\n",
      "                For instance, 0.15 should be rounded down to 0.1, and 0.25 should be rounded down to 0.2.\n",
      "                Use the following multiplicative factors: [0.1, 0.2, 0.4, 0.8, 1.2, 1.5, 2.0, 3.0, 5.0, 10.0]\n",
      "\n",
      "                Example Input Format:\n",
      "                Question: How many points did the basketball player score?\n",
      "                Answer: 10\n",
      "                Statement: The basketball player scored 10 points.\n",
      "\n",
      "                Example JSON Output:\n",
      "                {\n",
      "                \"0.1\": {\"modified_statement\": \"The basketball player scored 1 point.\", \"modified_answer\": \"1\"},\n",
      "                \"0.2\": {\"modified_statement\": \"The basketball player scored 2 points.\", \"modified_answer\": \"2\"},\n",
      "                \"0.4\": {\"modified_statement\": \"The basketball player scored 4 points.\", \"modified_answer\": \"4\"},\n",
      "                \"0.8\": {\"modified_statement\": \"The basketball player scored 8 points.\", \"modified_answer\": \"8\"},\n",
      "                \"1.2\": {\"modified_statement\": \"The basketball player scored 12 points.\", \"modified_answer\": \"12\"},\n",
      "                \"1.5\": {\"modified_statement\": \"The basketball player scored 15 points.\", \"modified_answer\": \"15\"},\n",
      "                \"2.0\": {\"modified_statement\": \"The basketball player scored 20 points.\", \"modified_answer\": \"20\"},\n",
      "                \"3.0\": {\"modified_statement\": \"The basketball player scored 30 points.\", \"modified_answer\": \"30\"},\n",
      "                \"5.0\": {\"modified_statement\": \"The basketball player scored 50 points.\", \"modified_answer\": \"50\"},\n",
      "                \"10.0\": {\"modified_statement\": \"The basketball player scored 100 points.\", \"modified_answer\": \"100\"}\n",
      "                }\n",
      "                There MUST be 10 total key-value pairs in a JSON output, corresponding to one for each of the multiplicative factors.\n"
     ]
    }
   ],
   "source": [
    "print(prompts.PERTURBATIONS['news'])"
   ]
  },
  {
   "cell_type": "code",
   "execution_count": 184,
   "id": "6071664d-368c-40c7-8692-53b57f2b9eda",
   "metadata": {},
   "outputs": [],
   "source": [
    "row = df[df['dataset']=='news'].iloc[220]"
   ]
  },
  {
   "cell_type": "code",
   "execution_count": 207,
   "id": "320e2158-fe6b-4451-9b2e-7b80f7d9732d",
   "metadata": {},
   "outputs": [],
   "source": [
    "question = row['question']\n",
    "context = row['context_original']\n",
    "answer = row['answer_original']\n",
    "statement = \"A United Airlines spokesperson said via email that the flight was carrying 139 passengers and six crew members\""
   ]
  },
  {
   "cell_type": "code",
   "execution_count": 209,
   "id": "d3fec7a3-13e2-4bbe-9316-f144931b509b",
   "metadata": {},
   "outputs": [
    {
     "name": "stdout",
     "output_type": "stream",
     "text": [
      "Question: How many passengers were on board United Flight 433 from San Francisco to southern Oregon on April 7, 2023?\n",
      "Answer: 139\n",
      "Context: A United Airlines spokesperson said via email that the flight was carrying 139 passengers and six crew members, and no emergency was declared because there was no indication of the damage during the flight.\n"
     ]
    }
   ],
   "source": [
    "print(f\"Question: {question}\")\n",
    "print(f\"Answer: {answer}\")\n",
    "print(f\"Context: {context[917:1123]}\")"
   ]
  },
  {
   "cell_type": "code",
   "execution_count": 210,
   "id": "ac79db8a-4a93-4172-89cd-4bfed8b1cb72",
   "metadata": {},
   "outputs": [],
   "source": [
    "response = client.chat.completions.create(\n",
    "  model=\"gpt-4o\",\n",
    "  response_format={\"type\": 'json_object'},\n",
    "  messages=[\n",
    "    {\"role\": \"system\", \"content\": prompts.PERTURBATIONS['news']},\n",
    "    {\"role\": \"user\", \"content\": f\"Question: {question}\\nAnswer: {answer}\\nStatement: {statement}\"}\n",
    "  ],\n",
    "  temperature=0,\n",
    "  seed=0,\n",
    ")"
   ]
  },
  {
   "cell_type": "code",
   "execution_count": 211,
   "id": "558d8bec-25d5-4212-bae2-4bb62a673a40",
   "metadata": {},
   "outputs": [],
   "source": [
    "perturbations_dict = json.loads(response.choices[0].message.content)"
   ]
  },
  {
   "cell_type": "code",
   "execution_count": 212,
   "id": "50e24453-b2d3-4145-8430-7f1becfc7ca2",
   "metadata": {},
   "outputs": [
    {
     "data": {
      "text/plain": [
       "{'0.1': {'modified_statement': 'A United Airlines spokesperson said via email that the flight was carrying 13 passengers and six crew members.',\n",
       "  'modified_answer': '13'},\n",
       " '0.2': {'modified_statement': 'A United Airlines spokesperson said via email that the flight was carrying 27 passengers and six crew members.',\n",
       "  'modified_answer': '27'},\n",
       " '0.4': {'modified_statement': 'A United Airlines spokesperson said via email that the flight was carrying 55 passengers and six crew members.',\n",
       "  'modified_answer': '55'},\n",
       " '0.8': {'modified_statement': 'A United Airlines spokesperson said via email that the flight was carrying 111 passengers and six crew members.',\n",
       "  'modified_answer': '111'},\n",
       " '1.2': {'modified_statement': 'A United Airlines spokesperson said via email that the flight was carrying 166 passengers and six crew members.',\n",
       "  'modified_answer': '166'},\n",
       " '1.5': {'modified_statement': 'A United Airlines spokesperson said via email that the flight was carrying 208 passengers and six crew members.',\n",
       "  'modified_answer': '208'},\n",
       " '2.0': {'modified_statement': 'A United Airlines spokesperson said via email that the flight was carrying 278 passengers and six crew members.',\n",
       "  'modified_answer': '278'},\n",
       " '3.0': {'modified_statement': 'A United Airlines spokesperson said via email that the flight was carrying 417 passengers and six crew members.',\n",
       "  'modified_answer': '417'},\n",
       " '5.0': {'modified_statement': 'A United Airlines spokesperson said via email that the flight was carrying 695 passengers and six crew members.',\n",
       "  'modified_answer': '695'},\n",
       " '10.0': {'modified_statement': 'A United Airlines spokesperson said via email that the flight was carrying 1390 passengers and six crew members.',\n",
       "  'modified_answer': '1390'}}"
      ]
     },
     "execution_count": 212,
     "metadata": {},
     "output_type": "execute_result"
    }
   ],
   "source": [
    "perturbations_dict"
   ]
  },
  {
   "cell_type": "code",
   "execution_count": 216,
   "id": "e0520696-75b2-46b5-8896-4d90623907f2",
   "metadata": {},
   "outputs": [
    {
     "name": "stdout",
     "output_type": "stream",
     "text": [
      "Mod value: 1390 \n",
      "Mod Context: A United Airlines spokesperson said via email that the flight was carrying 1390 passengers and six crew members., and no emergency was declared because there was no indication of the damage during the flight.\n"
     ]
    }
   ],
   "source": [
    "mod_df = []\n",
    "for mod_type, perturb_v in perturbations_dict.items():\n",
    "    mod_df.append({'mod_type': str(mod_type), \n",
    "                   'mod_value': perturb_v[\"modified_answer\"], \n",
    "                   'mod_context': context.replace(statement, perturb_v[\"modified_statement\"])})\n",
    "mod_df = pd.DataFrame(mod_df)\n",
    "print(f\"Mod value: {mod_df.iloc[9]['mod_value']} \\nMod Context: {mod_df.iloc[9]['mod_context'][917:1125]}\")"
   ]
  },
  {
   "cell_type": "markdown",
   "id": "d76845dd-f9c7-4175-b2e5-0dc69ef208e8",
   "metadata": {},
   "source": [
    "### 4. Records\n",
    "\n",
    "The record perturbations are produced algorithmically -- we use the following code:"
   ]
  },
  {
   "cell_type": "code",
   "execution_count": 96,
   "id": "7e5a4543-ef18-4e1d-a5e1-431bdb83dd9a",
   "metadata": {},
   "outputs": [],
   "source": [
    "def time_string_to_milliseconds(input_string):\n",
    "    # Check if the string contains any alphabetic characters\n",
    "    if re.search(\"[a-zA-Z]\", input_string):\n",
    "        return None\n",
    "\n",
    "    total_milliseconds = 0\n",
    "\n",
    "    # Handle formats with colons (hours:minutes:seconds or minutes:seconds.milliseconds)\n",
    "    if \":\" in input_string:\n",
    "        parts = input_string.split(\":\")\n",
    "\n",
    "        if len(parts) == 3:  # Format is hours:minutes:seconds\n",
    "            hours, minutes, seconds = map(int, parts)\n",
    "            total_milliseconds = ((hours * 60 + minutes) * 60 + seconds) * 1000\n",
    "        elif (\n",
    "            len(parts) == 2\n",
    "        ):  # Format is minutes:seconds or minutes:seconds.milliseconds\n",
    "            minutes, seconds_ms = parts\n",
    "            if \".\" in seconds_ms:  # minutes:seconds.milliseconds\n",
    "                seconds, milliseconds = map(int, seconds_ms.split(\".\"))\n",
    "                total_milliseconds = (int(minutes) * 60 + seconds) * 1000 + milliseconds\n",
    "            else:  # minutes:seconds\n",
    "                seconds = int(seconds_ms)\n",
    "                total_milliseconds = (int(minutes) * 60 + seconds) * 1000\n",
    "    else:\n",
    "        # Handle formats without colons, which might be seconds.milliseconds or minutes.seconds.milliseconds\n",
    "        parts = input_string.split(\".\")\n",
    "\n",
    "        if len(parts) == 3:  # Format is minutes.seconds.milliseconds\n",
    "            minutes, seconds, milliseconds = map(int, parts)\n",
    "            total_milliseconds = (minutes * 60 + seconds) * 1000 + milliseconds\n",
    "        elif len(parts) == 2:  # Format is seconds.milliseconds\n",
    "            seconds, milliseconds = map(int, parts)\n",
    "            total_milliseconds = seconds * 1000 + milliseconds\n",
    "        else:  # Pure seconds\n",
    "            total_milliseconds = int(input_string) * 1000\n",
    "\n",
    "    return total_milliseconds\n",
    "\n",
    "\n",
    "def milliseconds_to_time_string(milliseconds):\n",
    "    if milliseconds < 0:\n",
    "        return None  # Handling negative inputs, as time cannot be negative.\n",
    "\n",
    "    hours, remainder = divmod(milliseconds, 3600000)  # 3600000 milliseconds in an hour\n",
    "    minutes, remainder = divmod(remainder, 60000)  # 60000 milliseconds in a minute\n",
    "    seconds, milliseconds = divmod(remainder, 1000)  # 1000 milliseconds in a second\n",
    "\n",
    "    # Formatting based on the magnitude of milliseconds\n",
    "    if hours > 0:\n",
    "        time_string = f\"{int(hours)}:{int(minutes):02d}:{int(seconds):02d}\"\n",
    "    elif minutes > 0:\n",
    "        time_string = f\"{int(minutes)}:{int(seconds):02d}.{int(milliseconds):02d}\"\n",
    "    else:\n",
    "        time_string = f\"{int(seconds)}.{int(milliseconds):02d}\"\n",
    "\n",
    "    return time_string"
   ]
  },
  {
   "cell_type": "code",
   "execution_count": 110,
   "id": "75172b5a-09fc-4ffb-8014-1b09baa02a7e",
   "metadata": {},
   "outputs": [],
   "source": [
    "row = df[df['dataset']=='records'].iloc[30]"
   ]
  },
  {
   "cell_type": "code",
   "execution_count": 112,
   "id": "fed76d12-30c1-4fc3-a32e-a69654abaf70",
   "metadata": {},
   "outputs": [],
   "source": [
    "question = row['question']\n",
    "answer = row['answer_original']\n",
    "context = row['context_original']"
   ]
  },
  {
   "cell_type": "code",
   "execution_count": 136,
   "id": "a5c797da-dfd6-4b42-ad02-9b489b00247b",
   "metadata": {},
   "outputs": [
    {
     "name": "stdout",
     "output_type": "stream",
     "text": [
      "Question: What is the Olympic record for Men's 800 metresin athletics (time)?\n",
      "Answer: 1:40.91\n",
      "Context 800 metres\n",
      "\n",
      "♦1:40.91 \n",
      "\n",
      "David Rudisha\n",
      "\n",
      " Kenya (KEN)\n"
     ]
    }
   ],
   "source": [
    "print(f\"Question: {question}\")\n",
    "print(f\"Answer: {answer}\")\n",
    "print(f\"Context {context[context.find(\"800 metres\"):context.find(\"800 metres\")+50]}\")"
   ]
  },
  {
   "cell_type": "code",
   "execution_count": 135,
   "id": "32de1d11-81e4-466b-ac1c-a869e0cd999f",
   "metadata": {},
   "outputs": [
    {
     "name": "stdout",
     "output_type": "stream",
     "text": [
      "Mod value: 16:40.910 \n",
      "Mod Context: 800 metres\n",
      "\n",
      "♦16:40.910 \n",
      "\n",
      "David Rudisha\n",
      "\n",
      " Kenya (KEN)\n",
      "\n"
     ]
    }
   ],
   "source": [
    "mod_df = []\n",
    "for mod_type in [0.1, 0.2, 0.4, 0.8, 1.2, 1.5, 2.0, 3.0, 5.0, 10.0]:\n",
    "    mod_milli = int(time_string_to_milliseconds(answer) * mod_type)\n",
    "    modified_answer = milliseconds_to_time_string(mod_milli)\n",
    "    mod_df.append({'mod_type': str(mod_type), \n",
    "                   'mod_value': modified_answer, \n",
    "                   'mod_context': context.replace(answer, modified_answer)})\n",
    "mod_df = pd.DataFrame(mod_df)\n",
    "print(f\"Mod value: {mod_df.iloc[9]['mod_value']} \\nMod Context: {mod_df.iloc[9]['mod_context'][4502:4555]}\")"
   ]
  }
 ],
 "metadata": {
  "kernelspec": {
   "display_name": "Python 3 (ipykernel)",
   "language": "python",
   "name": "python3"
  },
  "language_info": {
   "codemirror_mode": {
    "name": "ipython",
    "version": 3
   },
   "file_extension": ".py",
   "mimetype": "text/x-python",
   "name": "python",
   "nbconvert_exporter": "python",
   "pygments_lexer": "ipython3",
   "version": "3.12.3"
  }
 },
 "nbformat": 4,
 "nbformat_minor": 5
}
